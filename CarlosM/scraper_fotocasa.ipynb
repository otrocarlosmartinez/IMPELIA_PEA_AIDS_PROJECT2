{
 "cells": [
  {
   "cell_type": "code",
   "execution_count": 1,
   "metadata": {},
   "outputs": [],
   "source": [
    "import time\n",
    "from selenium.webdriver.common.keys import Keys \n",
    "from selenium import webdriver\n",
    "from selenium.webdriver.common.action_chains import ActionChains"
   ]
  },
  {
   "cell_type": "code",
   "execution_count": 3,
   "metadata": {},
   "outputs": [],
   "source": [
    "driver=webdriver.Chrome()\n",
    "driver.get(\"https://www.fotocasa.es/es/\")\n",
    "driver.maximize_window()\n",
    "ActionChains(driver).key_down(Keys.PAGE_DOWN).key_up(Keys.PAGE_DOWN).perform()"
   ]
  },
  {
   "cell_type": "code",
   "execution_count": null,
   "metadata": {},
   "outputs": [],
   "source": [
    "from selenium.webdriver.common.by import By\n",
    "from selenium.webdriver.support.ui import WebDriverWait\n",
    "from selenium.webdriver.support import expected_conditions as EC\n",
    "\n",
    "# Wait for the \"Agree and close\" button to be visible\n",
    "agree_and_close = WebDriverWait(driver, 10).until(\n",
    "    EC.element_to_be_clickable((By.ID, \"didomi-notice-agree-button\"))\n",
    ")\n",
    "agree_and_close.click()"
   ]
  },
  {
   "cell_type": "code",
   "execution_count": 7,
   "metadata": {},
   "outputs": [],
   "source": [
    "time.sleep(2)\n",
    "alquilar=driver.find_element(\"xpath\",'.//div[@class=\"re-HomeSearchSelector-item re-HomeSearchSelector-item--rent\"]')\n",
    "alquilar.click()\n",
    "buscador=driver.find_element(\"xpath\",'.//div[@class=\"sui-AtomInput--withIcon sui-AtomInput--withIcon--right\"]/input')\n",
    "buscador.click()\n",
    "#buscador.send_keys('Málaga')\n",
    "time.sleep(1)\n",
    "buscador.send_keys(Keys.ENTER)"
   ]
  },
  {
   "cell_type": "code",
   "execution_count": 8,
   "metadata": {},
   "outputs": [],
   "source": [
    "cerrar_mapa=driver.find_element(\"xpath\", './/div[@class=\"re-SearchGoogleMapsControlsCloseMap\"]')\n",
    "cerrar_mapa.click()"
   ]
  },
  {
   "cell_type": "code",
   "execution_count": null,
   "metadata": {},
   "outputs": [],
   "source": [
    "for i in range(15):   \n",
    "    property_elements = driver.find_elements(\n",
    "        By.CSS_SELECTOR, \"a.re-CardPackPremium-info-container\")\n",
    "    # Wait for properties to be visible again (if you just came back to the main page)\n",
    "    property_elements = wait.until( EC.presence_of_all_elements_located(\n",
    "        (By.CSS_SELECTOR, \"a.re-CardPackPremium-info-container\")))\n",
    "\n",
    "        # Click on the property\n",
    "        print(f\"Clicking on property {i + 1}...\")\n",
    "        property_elements[i].click()\n",
    "    \n",
    "    for proprty in property_elements:\n",
    "        valor=precio.text\n",
    "        lista_precios.append(valor)\n",
    "    #Stop if we have 30 or more prices\n",
    "    if len(lista_precios) >= 30:\n",
    "        break\n",
    "    ActionChains(driver).key_down(Keys.PAGE_DOWN).key_up(Keys.PAGE_DOWN).perform()\n",
    "    time.sleep(0.5)\n",
    "\n",
    "print(f\"Collected {len(lista_precios)} prices:\")\n",
    "print(lista_precios)"
   ]
  },
  {
   "cell_type": "code",
   "execution_count": 41,
   "metadata": {},
   "outputs": [
    {
     "name": "stdout",
     "output_type": "stream",
     "text": [
      "[]\n"
     ]
    }
   ],
   "source": [
    "lista_precios=[]\n",
    "print(lista_precios)"
   ]
  },
  {
   "cell_type": "code",
   "execution_count": 42,
   "metadata": {},
   "outputs": [
    {
     "name": "stdout",
     "output_type": "stream",
     "text": [
      "Collected 31 prices:\n",
      "['1.200 €', '1.350 €', '4.900 €', '4.684 €', '1.500 €', '1.060 €', '1.200 €', '790 €', '800 €', '1.155 €', '4.442 €', '4.840 €', '1.000 €', '1.545 €', '1.060 €', '2.300 €', '3.000 €', '1.140 €', '1.165 €', '960 €', '1.120 €', '1.185 €', '1.115 €', '1.225 €', '1.140 €', '720 €', '760 €', '885 €', '1.850 €', '4.500 €', '1.625 €']\n"
     ]
    }
   ],
   "source": [
    "for i in range(15):   \n",
    "    precios = driver.find_elements(\"xpath\",'.//span[@class=\"re-CardPrice\"]')\n",
    "    for precio in precios:\n",
    "        valor=precio.text\n",
    "        lista_precios.append(valor)\n",
    "    #Stop if we have 30 or more prices\n",
    "    if len(lista_precios) >= 30:\n",
    "        break\n",
    "    ActionChains(driver).key_down(Keys.PAGE_DOWN).key_up(Keys.PAGE_DOWN).perform()\n",
    "    time.sleep(0.5)\n",
    "\n",
    "print(f\"Collected {len(lista_precios)} prices:\")\n",
    "print(lista_precios)"
   ]
  },
  {
   "cell_type": "code",
   "execution_count": 43,
   "metadata": {},
   "outputs": [
    {
     "name": "stdout",
     "output_type": "stream",
     "text": [
      "[]\n"
     ]
    }
   ],
   "source": [
    "lista_habitaciones=[]\n",
    "print(lista_habitaciones)"
   ]
  },
  {
   "cell_type": "code",
   "execution_count": 44,
   "metadata": {},
   "outputs": [
    {
     "name": "stdout",
     "output_type": "stream",
     "text": [
      "Collected 56 number of rooms:\n",
      "['2 habs.', '1 hab.', '4 habs.', '4 habs.', '2 habs.', '3 habs.', '2 habs.', '2 habs.', '4 habs.', '3 habs.', '1 hab.', '1 hab.', '2 habs.', '3 habs.', '4 habs.', '3 habs.', '3 habs.', '1 hab.', '3 habs.', '3 habs.', '3 habs.', '3 habs.', '3 habs.', '2 habs.', '3 habs.', '3 habs.', '3 habs.', '3 habs.', '2 habs.', '1 hab.', '4 habs.', '4 habs.', '2 habs.', '3 habs.', '2 habs.', '2 habs.', '4 habs.', '3 habs.', '1 hab.', '1 hab.', '2 habs.', '3 habs.', '4 habs.', '3 habs.', '3 habs.', '1 hab.', '3 habs.', '3 habs.', '3 habs.', '3 habs.', '3 habs.', '2 habs.', '3 habs.', '3 habs.', '3 habs.', '3 habs.']\n"
     ]
    }
   ],
   "source": [
    "for i in range(15):   \n",
    "    habitaciones = driver.find_elements(\"xpath\",'.//span[@class=\"re-CardFeaturesWithIcons-feature-icon re-CardFeaturesWithIcons-feature-icon--rooms\"]')\n",
    "    for hab in habitaciones:\n",
    "        valor=hab.text\n",
    "        lista_habitaciones.append(valor)\n",
    "    #Stop if we have 30 or more prices\n",
    "    if len(lista_habitaciones) >= 30:\n",
    "        break\n",
    "    ActionChains(driver).key_down(Keys.PAGE_DOWN).key_up(Keys.PAGE_DOWN).perform()\n",
    "    time.sleep(0.5)\n",
    "\n",
    "print(f\"Collected {len(lista_habitaciones)} number of rooms:\")\n",
    "print(lista_habitaciones)"
   ]
  }
 ],
 "metadata": {
  "kernelspec": {
   "display_name": "Python 3",
   "language": "python",
   "name": "python3"
  },
  "language_info": {
   "codemirror_mode": {
    "name": "ipython",
    "version": 3
   },
   "file_extension": ".py",
   "mimetype": "text/x-python",
   "name": "python",
   "nbconvert_exporter": "python",
   "pygments_lexer": "ipython3",
   "version": "3.13.0"
  }
 },
 "nbformat": 4,
 "nbformat_minor": 2
}
