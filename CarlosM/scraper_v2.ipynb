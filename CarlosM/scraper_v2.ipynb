{
 "cells": [
  {
   "cell_type": "code",
   "execution_count": 2,
   "metadata": {},
   "outputs": [
    {
     "name": "stdout",
     "output_type": "stream",
     "text": [
      "Scraping page 1...\n",
      "Found 2 properties on page 1\n",
      "Clicking on property 1...\n"
     ]
    },
    {
     "ename": "ElementNotInteractableException",
     "evalue": "Message: element not interactable\n  (Session info: chrome=132.0.6834.84)\nStacktrace:\n\tGetHandleVerifier [0x00007FF789B6FBE5+28741]\n\t(No symbol) [0x00007FF789AD7890]\n\t(No symbol) [0x00007FF789974E09]\n\t(No symbol) [0x00007FF7899CA724]\n\t(No symbol) [0x00007FF7899BC574]\n\t(No symbol) [0x00007FF7899EFF0A]\n\t(No symbol) [0x00007FF7899BBE46]\n\t(No symbol) [0x00007FF7899F0120]\n\t(No symbol) [0x00007FF789A100B4]\n\t(No symbol) [0x00007FF7899EFCB3]\n\t(No symbol) [0x00007FF7899B9FB3]\n\t(No symbol) [0x00007FF7899BB331]\n\tGetHandleVerifier [0x00007FF789EAA73D+3414941]\n\tGetHandleVerifier [0x00007FF789EBE64A+3496618]\n\tGetHandleVerifier [0x00007FF789EB413D+3454365]\n\tGetHandleVerifier [0x00007FF789C3848B+850155]\n\t(No symbol) [0x00007FF789AE37FF]\n\t(No symbol) [0x00007FF789ADF0C4]\n\t(No symbol) [0x00007FF789ADF25D]\n\t(No symbol) [0x00007FF789ACE079]\n\tBaseThreadInitThunk [0x00007FF9FBAE7374+20]\n\tRtlUserThreadStart [0x00007FF9FD07CC91+33]\n",
     "output_type": "error",
     "traceback": [
      "\u001b[1;31m---------------------------------------------------------------------------\u001b[0m",
      "\u001b[1;31mElementNotInteractableException\u001b[0m           Traceback (most recent call last)",
      "Cell \u001b[1;32mIn[2], line 36\u001b[0m\n\u001b[0;32m     34\u001b[0m \u001b[38;5;66;03m# Click on the property\u001b[39;00m\n\u001b[0;32m     35\u001b[0m \u001b[38;5;28mprint\u001b[39m(\u001b[38;5;124mf\u001b[39m\u001b[38;5;124m\"\u001b[39m\u001b[38;5;124mClicking on property \u001b[39m\u001b[38;5;132;01m{\u001b[39;00mi\u001b[38;5;250m \u001b[39m\u001b[38;5;241m+\u001b[39m\u001b[38;5;250m \u001b[39m\u001b[38;5;241m1\u001b[39m\u001b[38;5;132;01m}\u001b[39;00m\u001b[38;5;124m...\u001b[39m\u001b[38;5;124m\"\u001b[39m)\n\u001b[1;32m---> 36\u001b[0m \u001b[43mproperty_elements\u001b[49m\u001b[43m[\u001b[49m\u001b[43mi\u001b[49m\u001b[43m]\u001b[49m\u001b[38;5;241;43m.\u001b[39;49m\u001b[43mclick\u001b[49m\u001b[43m(\u001b[49m\u001b[43m)\u001b[49m\n\u001b[0;32m     38\u001b[0m \u001b[38;5;66;03m# Wait for the property page to load\u001b[39;00m\n\u001b[0;32m     39\u001b[0m wait\u001b[38;5;241m.\u001b[39muntil(EC\u001b[38;5;241m.\u001b[39mpresence_of_element_located((By\u001b[38;5;241m.\u001b[39mCSS_SELECTOR, \u001b[38;5;124m\"\u001b[39m\u001b[38;5;124mdiv[data-testid=\u001b[39m\u001b[38;5;124m'\u001b[39m\u001b[38;5;124mdetailPage\u001b[39m\u001b[38;5;124m'\u001b[39m\u001b[38;5;124m]\u001b[39m\u001b[38;5;124m\"\u001b[39m)))\n",
      "File \u001b[1;32mc:\\Users\\otroc\\AppData\\Local\\Programs\\Python\\Python313\\Lib\\site-packages\\selenium\\webdriver\\remote\\webelement.py:94\u001b[0m, in \u001b[0;36mWebElement.click\u001b[1;34m(self)\u001b[0m\n\u001b[0;32m     92\u001b[0m \u001b[38;5;28;01mdef\u001b[39;00m \u001b[38;5;21mclick\u001b[39m(\u001b[38;5;28mself\u001b[39m) \u001b[38;5;241m-\u001b[39m\u001b[38;5;241m>\u001b[39m \u001b[38;5;28;01mNone\u001b[39;00m:\n\u001b[0;32m     93\u001b[0m \u001b[38;5;250m    \u001b[39m\u001b[38;5;124;03m\"\"\"Clicks the element.\"\"\"\u001b[39;00m\n\u001b[1;32m---> 94\u001b[0m     \u001b[38;5;28;43mself\u001b[39;49m\u001b[38;5;241;43m.\u001b[39;49m\u001b[43m_execute\u001b[49m\u001b[43m(\u001b[49m\u001b[43mCommand\u001b[49m\u001b[38;5;241;43m.\u001b[39;49m\u001b[43mCLICK_ELEMENT\u001b[49m\u001b[43m)\u001b[49m\n",
      "File \u001b[1;32mc:\\Users\\otroc\\AppData\\Local\\Programs\\Python\\Python313\\Lib\\site-packages\\selenium\\webdriver\\remote\\webelement.py:395\u001b[0m, in \u001b[0;36mWebElement._execute\u001b[1;34m(self, command, params)\u001b[0m\n\u001b[0;32m    393\u001b[0m     params \u001b[38;5;241m=\u001b[39m {}\n\u001b[0;32m    394\u001b[0m params[\u001b[38;5;124m\"\u001b[39m\u001b[38;5;124mid\u001b[39m\u001b[38;5;124m\"\u001b[39m] \u001b[38;5;241m=\u001b[39m \u001b[38;5;28mself\u001b[39m\u001b[38;5;241m.\u001b[39m_id\n\u001b[1;32m--> 395\u001b[0m \u001b[38;5;28;01mreturn\u001b[39;00m \u001b[38;5;28;43mself\u001b[39;49m\u001b[38;5;241;43m.\u001b[39;49m\u001b[43m_parent\u001b[49m\u001b[38;5;241;43m.\u001b[39;49m\u001b[43mexecute\u001b[49m\u001b[43m(\u001b[49m\u001b[43mcommand\u001b[49m\u001b[43m,\u001b[49m\u001b[43m \u001b[49m\u001b[43mparams\u001b[49m\u001b[43m)\u001b[49m\n",
      "File \u001b[1;32mc:\\Users\\otroc\\AppData\\Local\\Programs\\Python\\Python313\\Lib\\site-packages\\selenium\\webdriver\\remote\\webdriver.py:384\u001b[0m, in \u001b[0;36mWebDriver.execute\u001b[1;34m(self, driver_command, params)\u001b[0m\n\u001b[0;32m    382\u001b[0m response \u001b[38;5;241m=\u001b[39m \u001b[38;5;28mself\u001b[39m\u001b[38;5;241m.\u001b[39mcommand_executor\u001b[38;5;241m.\u001b[39mexecute(driver_command, params)\n\u001b[0;32m    383\u001b[0m \u001b[38;5;28;01mif\u001b[39;00m response:\n\u001b[1;32m--> 384\u001b[0m     \u001b[38;5;28;43mself\u001b[39;49m\u001b[38;5;241;43m.\u001b[39;49m\u001b[43merror_handler\u001b[49m\u001b[38;5;241;43m.\u001b[39;49m\u001b[43mcheck_response\u001b[49m\u001b[43m(\u001b[49m\u001b[43mresponse\u001b[49m\u001b[43m)\u001b[49m\n\u001b[0;32m    385\u001b[0m     response[\u001b[38;5;124m\"\u001b[39m\u001b[38;5;124mvalue\u001b[39m\u001b[38;5;124m\"\u001b[39m] \u001b[38;5;241m=\u001b[39m \u001b[38;5;28mself\u001b[39m\u001b[38;5;241m.\u001b[39m_unwrap_value(response\u001b[38;5;241m.\u001b[39mget(\u001b[38;5;124m\"\u001b[39m\u001b[38;5;124mvalue\u001b[39m\u001b[38;5;124m\"\u001b[39m, \u001b[38;5;28;01mNone\u001b[39;00m))\n\u001b[0;32m    386\u001b[0m     \u001b[38;5;28;01mreturn\u001b[39;00m response\n",
      "File \u001b[1;32mc:\\Users\\otroc\\AppData\\Local\\Programs\\Python\\Python313\\Lib\\site-packages\\selenium\\webdriver\\remote\\errorhandler.py:232\u001b[0m, in \u001b[0;36mErrorHandler.check_response\u001b[1;34m(self, response)\u001b[0m\n\u001b[0;32m    230\u001b[0m         alert_text \u001b[38;5;241m=\u001b[39m value[\u001b[38;5;124m\"\u001b[39m\u001b[38;5;124malert\u001b[39m\u001b[38;5;124m\"\u001b[39m]\u001b[38;5;241m.\u001b[39mget(\u001b[38;5;124m\"\u001b[39m\u001b[38;5;124mtext\u001b[39m\u001b[38;5;124m\"\u001b[39m)\n\u001b[0;32m    231\u001b[0m     \u001b[38;5;28;01mraise\u001b[39;00m exception_class(message, screen, stacktrace, alert_text)  \u001b[38;5;66;03m# type: ignore[call-arg]  # mypy is not smart enough here\u001b[39;00m\n\u001b[1;32m--> 232\u001b[0m \u001b[38;5;28;01mraise\u001b[39;00m exception_class(message, screen, stacktrace)\n",
      "\u001b[1;31mElementNotInteractableException\u001b[0m: Message: element not interactable\n  (Session info: chrome=132.0.6834.84)\nStacktrace:\n\tGetHandleVerifier [0x00007FF789B6FBE5+28741]\n\t(No symbol) [0x00007FF789AD7890]\n\t(No symbol) [0x00007FF789974E09]\n\t(No symbol) [0x00007FF7899CA724]\n\t(No symbol) [0x00007FF7899BC574]\n\t(No symbol) [0x00007FF7899EFF0A]\n\t(No symbol) [0x00007FF7899BBE46]\n\t(No symbol) [0x00007FF7899F0120]\n\t(No symbol) [0x00007FF789A100B4]\n\t(No symbol) [0x00007FF7899EFCB3]\n\t(No symbol) [0x00007FF7899B9FB3]\n\t(No symbol) [0x00007FF7899BB331]\n\tGetHandleVerifier [0x00007FF789EAA73D+3414941]\n\tGetHandleVerifier [0x00007FF789EBE64A+3496618]\n\tGetHandleVerifier [0x00007FF789EB413D+3454365]\n\tGetHandleVerifier [0x00007FF789C3848B+850155]\n\t(No symbol) [0x00007FF789AE37FF]\n\t(No symbol) [0x00007FF789ADF0C4]\n\t(No symbol) [0x00007FF789ADF25D]\n\t(No symbol) [0x00007FF789ACE079]\n\tBaseThreadInitThunk [0x00007FF9FBAE7374+20]\n\tRtlUserThreadStart [0x00007FF9FD07CC91+33]\n"
     ]
    }
   ],
   "source": [
    "from selenium import webdriver\n",
    "from selenium.webdriver.common.by import By\n",
    "from selenium.webdriver.support.ui import WebDriverWait\n",
    "from selenium.webdriver.support import expected_conditions as EC\n",
    "import time\n",
    "\n",
    "# Initialize the WebDriver\n",
    "driver = webdriver.Chrome()\n",
    "\n",
    "# Open the first page of the website\n",
    "base_url = \"https://www.fotocasa.es/es/alquiler/viviendas/espana/todas-las-zonas/l\"\n",
    "driver.get(base_url)\n",
    "\n",
    "# Wait for the page to load\n",
    "wait = WebDriverWait(driver, 10)\n",
    "\n",
    "# Loop through pages\n",
    "current_page = 1\n",
    "while True:\n",
    "    print(f\"Scraping page {current_page}...\")\n",
    "\n",
    "    # Get the list of properties on the current page\n",
    "    property_elements = driver.find_elements(By.CSS_SELECTOR, \"a.re-CardPackPremium-info-container\")\n",
    "    num_properties = len(property_elements)\n",
    "    print(f\"Found {num_properties} properties on page {current_page}\")\n",
    "\n",
    "    # Iterate through each property on the current page\n",
    "    for i in range(num_properties):\n",
    "        # Wait for properties to be visible again (if you just came back to the main page)\n",
    "        property_elements = wait.until(\n",
    "            EC.presence_of_all_elements_located((By.CSS_SELECTOR, \"a.re-CardPackPremium-info-container\"))\n",
    "        )\n",
    "\n",
    "        # Click on the property\n",
    "        print(f\"Clicking on property {i + 1}...\")\n",
    "        property_elements[i].click()\n",
    "\n",
    "        # Wait for the property page to load\n",
    "        wait.until(EC.presence_of_element_located((By.CSS_SELECTOR, \"div[data-testid='detailPage']\")))\n",
    "\n",
    "        # Scrape the property data (customize this based on the data you want)\n",
    "        try:\n",
    "            title = driver.find_element(By.CSS_SELECTOR, \"h1.re-DetailHeader-propertyTitle\").text\n",
    "            price = driver.find_element(By.CSS_SELECTOR, \"span.re-DetailHeader-price\").text\n",
    "            description = driver.find_element(By.CSS_SELECTOR, \"div.re-DetailDescription-text\").text\n",
    "            print(f\"Title: {title}\")\n",
    "            print(f\"Price: {price}\")\n",
    "            print(f\"Description: {description}\")\n",
    "        except Exception as e:\n",
    "            print(f\"Error scraping property data: {e}\")\n",
    "\n",
    "        # Go back to the main page\n",
    "        driver.back()\n",
    "\n",
    "        # Wait for the main page to reload\n",
    "        wait.until(EC.presence_of_element_located((By.CSS_SELECTOR, \"a.re-CardPackPremium-info-container\")))\n",
    "\n",
    "    # Move to the next page\n",
    "    try:\n",
    "        next_page_button = driver.find_element(By.CSS_SELECTOR, \"a.sui-PaginationBasic-itemLink--next\")\n",
    "        next_page_button.click()\n",
    "        current_page += 1\n",
    "        time.sleep(3)  # Let the next page load\n",
    "    except Exception:\n",
    "        print(\"No more pages available. Finished scraping.\")\n",
    "        break\n",
    "\n",
    "# Close the WebDriver\n",
    "driver.quit()\n"
   ]
  }
 ],
 "metadata": {
  "kernelspec": {
   "display_name": "Python 3",
   "language": "python",
   "name": "python3"
  },
  "language_info": {
   "codemirror_mode": {
    "name": "ipython",
    "version": 3
   },
   "file_extension": ".py",
   "mimetype": "text/x-python",
   "name": "python",
   "nbconvert_exporter": "python",
   "pygments_lexer": "ipython3",
   "version": "3.13.0"
  }
 },
 "nbformat": 4,
 "nbformat_minor": 2
}
